{
 "cells": [
  {
   "cell_type": "code",
   "execution_count": 1,
   "id": "c1b265de-1c8e-4c0e-bda5-22e6ccc324d4",
   "metadata": {},
   "outputs": [],
   "source": [
    "import pandas as pd\n",
    "import matplotlib.pyplot as plt\n",
    "df = pd.read_csv(\"GrandeInsta.csv\")"
   ]
  },
  {
   "cell_type": "code",
   "execution_count": 2,
   "id": "5fcff102-a088-4830-b1c9-f9c2d0aaa9e6",
   "metadata": {},
   "outputs": [
    {
     "data": {
      "text/html": [
       "<div>\n",
       "<style scoped>\n",
       "    .dataframe tbody tr th:only-of-type {\n",
       "        vertical-align: middle;\n",
       "    }\n",
       "\n",
       "    .dataframe tbody tr th {\n",
       "        vertical-align: top;\n",
       "    }\n",
       "\n",
       "    .dataframe thead th {\n",
       "        text-align: right;\n",
       "    }\n",
       "</style>\n",
       "<table border=\"1\" class=\"dataframe\">\n",
       "  <thead>\n",
       "    <tr style=\"text-align: right;\">\n",
       "      <th></th>\n",
       "      <th>PostDate</th>\n",
       "      <th>ContentType</th>\n",
       "      <th>Likes</th>\n",
       "      <th>Comments</th>\n",
       "      <th>Views</th>\n",
       "      <th>ContentTheme</th>\n",
       "      <th>Caption</th>\n",
       "    </tr>\n",
       "  </thead>\n",
       "  <tbody>\n",
       "    <tr>\n",
       "      <th>0</th>\n",
       "      <td>18-06-2025</td>\n",
       "      <td>Reel</td>\n",
       "      <td>0</td>\n",
       "      <td>0</td>\n",
       "      <td>57.0</td>\n",
       "      <td>Scoliosis, Testimonial</td>\n",
       "      <td>𝐒𝐜𝐨𝐥𝐢𝐨𝐬𝐢𝐬 𝐀𝐰𝐚𝐫𝐞𝐧𝐞𝐬𝐬 𝐌𝐨𝐧𝐭𝐡 !\\nPre &amp; Post analys...</td>\n",
       "    </tr>\n",
       "    <tr>\n",
       "      <th>1</th>\n",
       "      <td>17-06-2025</td>\n",
       "      <td>Image</td>\n",
       "      <td>3</td>\n",
       "      <td>0</td>\n",
       "      <td>NaN</td>\n",
       "      <td>Scoliosis</td>\n",
       "      <td>𝐌𝐲𝐭𝐡𝐬 &amp; 𝐅𝐚𝐜𝐭𝐬 𝐚𝐛𝐨𝐮𝐭 𝐒𝐜𝐨𝐥𝐢𝐨𝐬𝐢𝐬 !\\n𝐒𝐞𝐫𝐢𝐞𝐬 - 𝟐</td>\n",
       "    </tr>\n",
       "    <tr>\n",
       "      <th>2</th>\n",
       "      <td>16-06-2025</td>\n",
       "      <td>Reel</td>\n",
       "      <td>1</td>\n",
       "      <td>0</td>\n",
       "      <td>284.0</td>\n",
       "      <td>Scoliosis, Testimonial</td>\n",
       "      <td>𝐒𝐜𝐨𝐥𝐢𝐨𝐬𝐢𝐬 𝐀𝐰𝐚𝐫𝐞𝐧𝐞𝐬𝐬 𝐌𝐨𝐧𝐭𝐡 !\\nओम राज सिंह - स्क...</td>\n",
       "    </tr>\n",
       "    <tr>\n",
       "      <th>3</th>\n",
       "      <td>16-06-2025</td>\n",
       "      <td>Image</td>\n",
       "      <td>16</td>\n",
       "      <td>0</td>\n",
       "      <td>NaN</td>\n",
       "      <td>Training</td>\n",
       "      <td>𝐒𝐭𝐫𝐞𝐧𝐠𝐭𝐡𝐞𝐧𝐢𝐧𝐠 𝐎𝐮𝐫 𝐒𝐤𝐢𝐥𝐥𝐬!\\nAs part of our cont...</td>\n",
       "    </tr>\n",
       "    <tr>\n",
       "      <th>4</th>\n",
       "      <td>15-06-2025</td>\n",
       "      <td>Image</td>\n",
       "      <td>2</td>\n",
       "      <td>0</td>\n",
       "      <td>NaN</td>\n",
       "      <td>Scoliosis</td>\n",
       "      <td>𝐒𝐜𝐨𝐥𝐢𝐨𝐬𝐢𝐬 𝐀𝐰𝐚𝐫𝐞𝐧𝐞𝐬𝐬 𝐌𝐨𝐧𝐭𝐡 !\\nScoliosis can't s...</td>\n",
       "    </tr>\n",
       "  </tbody>\n",
       "</table>\n",
       "</div>"
      ],
      "text/plain": [
       "     PostDate ContentType  Likes  Comments  Views            ContentTheme  \\\n",
       "0  18-06-2025        Reel      0         0   57.0  Scoliosis, Testimonial   \n",
       "1  17-06-2025       Image      3         0    NaN               Scoliosis   \n",
       "2  16-06-2025        Reel      1         0  284.0  Scoliosis, Testimonial   \n",
       "3  16-06-2025       Image     16         0    NaN                Training   \n",
       "4  15-06-2025       Image      2         0    NaN               Scoliosis   \n",
       "\n",
       "                                             Caption  \n",
       "0  𝐒𝐜𝐨𝐥𝐢𝐨𝐬𝐢𝐬 𝐀𝐰𝐚𝐫𝐞𝐧𝐞𝐬𝐬 𝐌𝐨𝐧𝐭𝐡 !\\nPre & Post analys...  \n",
       "1        𝐌𝐲𝐭𝐡𝐬 & 𝐅𝐚𝐜𝐭𝐬 𝐚𝐛𝐨𝐮𝐭 𝐒𝐜𝐨𝐥𝐢𝐨𝐬𝐢𝐬 !\\n𝐒𝐞𝐫𝐢𝐞𝐬 - 𝟐  \n",
       "2  𝐒𝐜𝐨𝐥𝐢𝐨𝐬𝐢𝐬 𝐀𝐰𝐚𝐫𝐞𝐧𝐞𝐬𝐬 𝐌𝐨𝐧𝐭𝐡 !\\nओम राज सिंह - स्क...  \n",
       "3  𝐒𝐭𝐫𝐞𝐧𝐠𝐭𝐡𝐞𝐧𝐢𝐧𝐠 𝐎𝐮𝐫 𝐒𝐤𝐢𝐥𝐥𝐬!\\nAs part of our cont...  \n",
       "4  𝐒𝐜𝐨𝐥𝐢𝐨𝐬𝐢𝐬 𝐀𝐰𝐚𝐫𝐞𝐧𝐞𝐬𝐬 𝐌𝐨𝐧𝐭𝐡 !\\nScoliosis can't s...  "
      ]
     },
     "execution_count": 2,
     "metadata": {},
     "output_type": "execute_result"
    }
   ],
   "source": [
    "df.head()"
   ]
  },
  {
   "cell_type": "code",
   "execution_count": 3,
   "id": "71666f25-74e3-4fe5-8f0b-4d656c46df98",
   "metadata": {},
   "outputs": [
    {
     "name": "stdout",
     "output_type": "stream",
     "text": [
      "<class 'pandas.core.frame.DataFrame'>\n",
      "RangeIndex: 36 entries, 0 to 35\n",
      "Data columns (total 7 columns):\n",
      " #   Column        Non-Null Count  Dtype  \n",
      "---  ------        --------------  -----  \n",
      " 0   PostDate      36 non-null     object \n",
      " 1   ContentType   36 non-null     object \n",
      " 2   Likes         36 non-null     int64  \n",
      " 3   Comments      36 non-null     int64  \n",
      " 4   Views         20 non-null     float64\n",
      " 5   ContentTheme  36 non-null     object \n",
      " 6   Caption       34 non-null     object \n",
      "dtypes: float64(1), int64(2), object(4)\n",
      "memory usage: 2.1+ KB\n"
     ]
    }
   ],
   "source": [
    "df.info()"
   ]
  },
  {
   "cell_type": "code",
   "execution_count": 4,
   "id": "e4533dbf-87b8-4373-b377-61f8fb961a33",
   "metadata": {},
   "outputs": [
    {
     "data": {
      "text/html": [
       "<div>\n",
       "<style scoped>\n",
       "    .dataframe tbody tr th:only-of-type {\n",
       "        vertical-align: middle;\n",
       "    }\n",
       "\n",
       "    .dataframe tbody tr th {\n",
       "        vertical-align: top;\n",
       "    }\n",
       "\n",
       "    .dataframe thead th {\n",
       "        text-align: right;\n",
       "    }\n",
       "</style>\n",
       "<table border=\"1\" class=\"dataframe\">\n",
       "  <thead>\n",
       "    <tr style=\"text-align: right;\">\n",
       "      <th></th>\n",
       "      <th>Likes</th>\n",
       "      <th>Comments</th>\n",
       "      <th>Views</th>\n",
       "    </tr>\n",
       "  </thead>\n",
       "  <tbody>\n",
       "    <tr>\n",
       "      <th>count</th>\n",
       "      <td>36.000000</td>\n",
       "      <td>36.000000</td>\n",
       "      <td>20.000000</td>\n",
       "    </tr>\n",
       "    <tr>\n",
       "      <th>mean</th>\n",
       "      <td>10.250000</td>\n",
       "      <td>0.083333</td>\n",
       "      <td>470.200000</td>\n",
       "    </tr>\n",
       "    <tr>\n",
       "      <th>std</th>\n",
       "      <td>10.103394</td>\n",
       "      <td>0.280306</td>\n",
       "      <td>209.318091</td>\n",
       "    </tr>\n",
       "    <tr>\n",
       "      <th>min</th>\n",
       "      <td>0.000000</td>\n",
       "      <td>0.000000</td>\n",
       "      <td>57.000000</td>\n",
       "    </tr>\n",
       "    <tr>\n",
       "      <th>25%</th>\n",
       "      <td>3.000000</td>\n",
       "      <td>0.000000</td>\n",
       "      <td>344.000000</td>\n",
       "    </tr>\n",
       "    <tr>\n",
       "      <th>50%</th>\n",
       "      <td>7.500000</td>\n",
       "      <td>0.000000</td>\n",
       "      <td>473.000000</td>\n",
       "    </tr>\n",
       "    <tr>\n",
       "      <th>75%</th>\n",
       "      <td>14.500000</td>\n",
       "      <td>0.000000</td>\n",
       "      <td>558.000000</td>\n",
       "    </tr>\n",
       "    <tr>\n",
       "      <th>max</th>\n",
       "      <td>47.000000</td>\n",
       "      <td>1.000000</td>\n",
       "      <td>867.000000</td>\n",
       "    </tr>\n",
       "  </tbody>\n",
       "</table>\n",
       "</div>"
      ],
      "text/plain": [
       "           Likes   Comments       Views\n",
       "count  36.000000  36.000000   20.000000\n",
       "mean   10.250000   0.083333  470.200000\n",
       "std    10.103394   0.280306  209.318091\n",
       "min     0.000000   0.000000   57.000000\n",
       "25%     3.000000   0.000000  344.000000\n",
       "50%     7.500000   0.000000  473.000000\n",
       "75%    14.500000   0.000000  558.000000\n",
       "max    47.000000   1.000000  867.000000"
      ]
     },
     "execution_count": 4,
     "metadata": {},
     "output_type": "execute_result"
    }
   ],
   "source": [
    "df.describe()\n"
   ]
  },
  {
   "cell_type": "code",
   "execution_count": 5,
   "id": "68eff16c-764e-4629-951e-cd6fd6f152b6",
   "metadata": {},
   "outputs": [],
   "source": [
    "df['PostDate'] = pd.to_datetime(df['PostDate'], dayfirst=True)\n"
   ]
  },
  {
   "cell_type": "code",
   "execution_count": 6,
   "id": "f260742b-75fd-4db5-bb38-1c47bda5d5da",
   "metadata": {},
   "outputs": [
    {
     "data": {
      "text/plain": [
       "PostDate         0\n",
       "ContentType      0\n",
       "Likes            0\n",
       "Comments         0\n",
       "Views           16\n",
       "ContentTheme     0\n",
       "Caption          2\n",
       "dtype: int64"
      ]
     },
     "execution_count": 6,
     "metadata": {},
     "output_type": "execute_result"
    }
   ],
   "source": [
    "df.isnull().sum()\n"
   ]
  },
  {
   "cell_type": "code",
   "execution_count": 7,
   "id": "3d591b1f-2b0d-4c98-b4d6-ad89cca86050",
   "metadata": {},
   "outputs": [],
   "source": [
    "df['Engagement'] = df['Likes'] + df['Comments']\n"
   ]
  },
  {
   "cell_type": "code",
   "execution_count": 8,
   "id": "2e5b883f-5a1e-4a51-9272-0eca5aead95d",
   "metadata": {},
   "outputs": [
    {
     "data": {
      "text/html": [
       "<div>\n",
       "<style scoped>\n",
       "    .dataframe tbody tr th:only-of-type {\n",
       "        vertical-align: middle;\n",
       "    }\n",
       "\n",
       "    .dataframe tbody tr th {\n",
       "        vertical-align: top;\n",
       "    }\n",
       "\n",
       "    .dataframe thead th {\n",
       "        text-align: right;\n",
       "    }\n",
       "</style>\n",
       "<table border=\"1\" class=\"dataframe\">\n",
       "  <thead>\n",
       "    <tr style=\"text-align: right;\">\n",
       "      <th></th>\n",
       "      <th>PostDate</th>\n",
       "      <th>ContentType</th>\n",
       "      <th>Likes</th>\n",
       "      <th>Comments</th>\n",
       "      <th>Views</th>\n",
       "      <th>ContentTheme</th>\n",
       "      <th>Caption</th>\n",
       "      <th>Engagement</th>\n",
       "    </tr>\n",
       "  </thead>\n",
       "  <tbody>\n",
       "    <tr>\n",
       "      <th>0</th>\n",
       "      <td>2025-06-18</td>\n",
       "      <td>Reel</td>\n",
       "      <td>0</td>\n",
       "      <td>0</td>\n",
       "      <td>57.0</td>\n",
       "      <td>Scoliosis, Testimonial</td>\n",
       "      <td>𝐒𝐜𝐨𝐥𝐢𝐨𝐬𝐢𝐬 𝐀𝐰𝐚𝐫𝐞𝐧𝐞𝐬𝐬 𝐌𝐨𝐧𝐭𝐡 !\\nPre &amp; Post analys...</td>\n",
       "      <td>0</td>\n",
       "    </tr>\n",
       "    <tr>\n",
       "      <th>1</th>\n",
       "      <td>2025-06-17</td>\n",
       "      <td>Image</td>\n",
       "      <td>3</td>\n",
       "      <td>0</td>\n",
       "      <td>NaN</td>\n",
       "      <td>Scoliosis</td>\n",
       "      <td>𝐌𝐲𝐭𝐡𝐬 &amp; 𝐅𝐚𝐜𝐭𝐬 𝐚𝐛𝐨𝐮𝐭 𝐒𝐜𝐨𝐥𝐢𝐨𝐬𝐢𝐬 !\\n𝐒𝐞𝐫𝐢𝐞𝐬 - 𝟐</td>\n",
       "      <td>3</td>\n",
       "    </tr>\n",
       "    <tr>\n",
       "      <th>2</th>\n",
       "      <td>2025-06-16</td>\n",
       "      <td>Reel</td>\n",
       "      <td>1</td>\n",
       "      <td>0</td>\n",
       "      <td>284.0</td>\n",
       "      <td>Scoliosis, Testimonial</td>\n",
       "      <td>𝐒𝐜𝐨𝐥𝐢𝐨𝐬𝐢𝐬 𝐀𝐰𝐚𝐫𝐞𝐧𝐞𝐬𝐬 𝐌𝐨𝐧𝐭𝐡 !\\nओम राज सिंह - स्क...</td>\n",
       "      <td>1</td>\n",
       "    </tr>\n",
       "    <tr>\n",
       "      <th>3</th>\n",
       "      <td>2025-06-16</td>\n",
       "      <td>Image</td>\n",
       "      <td>16</td>\n",
       "      <td>0</td>\n",
       "      <td>NaN</td>\n",
       "      <td>Training</td>\n",
       "      <td>𝐒𝐭𝐫𝐞𝐧𝐠𝐭𝐡𝐞𝐧𝐢𝐧𝐠 𝐎𝐮𝐫 𝐒𝐤𝐢𝐥𝐥𝐬!\\nAs part of our cont...</td>\n",
       "      <td>16</td>\n",
       "    </tr>\n",
       "    <tr>\n",
       "      <th>4</th>\n",
       "      <td>2025-06-15</td>\n",
       "      <td>Image</td>\n",
       "      <td>2</td>\n",
       "      <td>0</td>\n",
       "      <td>NaN</td>\n",
       "      <td>Scoliosis</td>\n",
       "      <td>𝐒𝐜𝐨𝐥𝐢𝐨𝐬𝐢𝐬 𝐀𝐰𝐚𝐫𝐞𝐧𝐞𝐬𝐬 𝐌𝐨𝐧𝐭𝐡 !\\nScoliosis can't s...</td>\n",
       "      <td>2</td>\n",
       "    </tr>\n",
       "  </tbody>\n",
       "</table>\n",
       "</div>"
      ],
      "text/plain": [
       "    PostDate ContentType  Likes  Comments  Views            ContentTheme  \\\n",
       "0 2025-06-18        Reel      0         0   57.0  Scoliosis, Testimonial   \n",
       "1 2025-06-17       Image      3         0    NaN               Scoliosis   \n",
       "2 2025-06-16        Reel      1         0  284.0  Scoliosis, Testimonial   \n",
       "3 2025-06-16       Image     16         0    NaN                Training   \n",
       "4 2025-06-15       Image      2         0    NaN               Scoliosis   \n",
       "\n",
       "                                             Caption  Engagement  \n",
       "0  𝐒𝐜𝐨𝐥𝐢𝐨𝐬𝐢𝐬 𝐀𝐰𝐚𝐫𝐞𝐧𝐞𝐬𝐬 𝐌𝐨𝐧𝐭𝐡 !\\nPre & Post analys...           0  \n",
       "1        𝐌𝐲𝐭𝐡𝐬 & 𝐅𝐚𝐜𝐭𝐬 𝐚𝐛𝐨𝐮𝐭 𝐒𝐜𝐨𝐥𝐢𝐨𝐬𝐢𝐬 !\\n𝐒𝐞𝐫𝐢𝐞𝐬 - 𝟐           3  \n",
       "2  𝐒𝐜𝐨𝐥𝐢𝐨𝐬𝐢𝐬 𝐀𝐰𝐚𝐫𝐞𝐧𝐞𝐬𝐬 𝐌𝐨𝐧𝐭𝐡 !\\nओम राज सिंह - स्क...           1  \n",
       "3  𝐒𝐭𝐫𝐞𝐧𝐠𝐭𝐡𝐞𝐧𝐢𝐧𝐠 𝐎𝐮𝐫 𝐒𝐤𝐢𝐥𝐥𝐬!\\nAs part of our cont...          16  \n",
       "4  𝐒𝐜𝐨𝐥𝐢𝐨𝐬𝐢𝐬 𝐀𝐰𝐚𝐫𝐞𝐧𝐞𝐬𝐬 𝐌𝐨𝐧𝐭𝐡 !\\nScoliosis can't s...           2  "
      ]
     },
     "execution_count": 8,
     "metadata": {},
     "output_type": "execute_result"
    }
   ],
   "source": [
    "df.head()"
   ]
  },
  {
   "cell_type": "code",
   "execution_count": 9,
   "id": "58fdfeed-b10b-4fab-a9c0-6c402f763123",
   "metadata": {},
   "outputs": [
    {
     "data": {
      "image/png": "[encoded data removed]",
      "text/plain": [
       "<Figure size 1000x500 with 1 Axes>"
      ]
     },
     "metadata": {},
     "output_type": "display_data"
    }
   ],
   "source": [
    "df['YearMonth'] = df['PostDate'].dt.to_period('M')\n",
    "\n",
    "# Count number of posts per month\n",
    "monthly_post_counts = df['YearMonth'].value_counts().sort_index()\n",
    "\n",
    "# Plot\n",
    "plt.figure(figsize=(10, 5))\n",
    "monthly_post_counts.plot(kind='bar', color='mediumseagreen')\n",
    "plt.title(\"Monthly Posting Frequency\")\n",
    "plt.xlabel(\"Month\")\n",
    "plt.ylabel(\"Number of Posts\")\n",
    "plt.xticks(rotation=45)\n",
    "plt.grid(axis='y')\n",
    "plt.tight_layout()\n",
    "plt.show()"
   ]
  },
  {
   "cell_type": "code",
   "execution_count": 10,
   "id": "3a056293-c303-4fde-9a69-ef31f96506e9",
   "metadata": {},
   "outputs": [
    {
     "data": {
      "text/plain": [
       "<Axes: title={'center': 'Avg Performance by Content Type'}, xlabel='ContentType'>"
      ]
     },
     "execution_count": 10,
     "metadata": {},
     "output_type": "execute_result"
    },
    {
     "data": {
      "image/png": "[encoded data removed]",
      "text/plain": [
       "<Figure size 640x480 with 1 Axes>"
      ]
     },
     "metadata": {},
     "output_type": "display_data"
    }
   ],
   "source": [
    "df.groupby('ContentType')[['Likes', 'Comments', 'Views', 'Engagement']].mean().plot(kind='bar', title=\"Avg Performance by Content Type\")"
   ]
  },
  {
   "cell_type": "code",
   "execution_count": 11,
   "id": "5665ad84-c73c-4509-8821-ffcc650c3547",
   "metadata": {},
   "outputs": [
    {
     "data": {
      "text/plain": [
       "<Axes: title={'center': 'Avg Engagement by Theme'}, ylabel='ContentTheme'>"
      ]
     },
     "execution_count": 11,
     "metadata": {},
     "output_type": "execute_result"
    },
    {
     "data": {
      "image/png": "[encoded data removed]",
      "text/plain": [
       "<Figure size 640x480 with 1 Axes>"
      ]
     },
     "metadata": {},
     "output_type": "display_data"
    }
   ],
   "source": [
    "df.groupby('ContentTheme')['Engagement'].mean().sort_values(ascending=False).plot(kind='barh', title=\"Avg Engagement by Theme\")\n"
   ]
  },
  {
   "cell_type": "code",
   "execution_count": 12,
   "id": "7374f196-e0b9-4352-97a2-123db1237f36",
   "metadata": {},
   "outputs": [
    {
     "data": {
      "text/plain": [
       "<Axes: xlabel='Views', ylabel='Likes'>"
      ]
     },
     "execution_count": 12,
     "metadata": {},
     "output_type": "execute_result"
    },
    {
     "data": {
      "image/png": "[encoded data removed]",
      "text/plain": [
       "<Figure size 640x480 with 1 Axes>"
      ]
     },
     "metadata": {},
     "output_type": "display_data"
    }
   ],
   "source": [
    "import seaborn as sns\n",
    "sns.scatterplot(data=df[df['ContentType'] == 'Reel'], x='Views', y='Likes')\n"
   ]
  },
  {
   "cell_type": "code",
   "execution_count": 13,
   "id": "33e11e81-c662-4b5d-9efa-4708f3def4d9",
   "metadata": {},
   "outputs": [],
   "source": [
    "def caption_language(text: str) -> str:\n",
    "    if isinstance(text, str) and any(\"\\u0900\" <= ch <= \"\\u097F\" for ch in text):\n",
    "        return \"Nepali\"\n",
    "    return \"English\"\n",
    "\n",
    "df[\"Language\"] = df[\"Caption\"].apply(caption_language)"
   ]
  },
  {
   "cell_type": "code",
   "execution_count": 14,
   "id": "40fed9f3-102d-4695-b5b9-6a17e2010ef8",
   "metadata": {},
   "outputs": [],
   "source": [
    "total_days = (df[\"PostDate\"].max() - df[\"PostDate\"].min()).days + 1\n",
    "posting_cadence = len(df) / (total_days / 7)  # posts per week"
   ]
  },
  {
   "cell_type": "code",
   "execution_count": 15,
   "id": "8bfb3ab1-ca3e-440a-8961-f823d82da3c2",
   "metadata": {},
   "outputs": [
    {
     "name": "stdout",
     "output_type": "stream",
     "text": [
      "=== KPI Baseline vs 30-Day Target ===\n",
      "\n",
      "                           KPI  Current  30-Day Target\n",
      "Posting cadence (posts / week)     1.88            3.0\n",
      "       Avg engagement per post    10.33           15.0\n",
      "            Reel like-rate (%)     1.39            3.0\n",
      "             Comments per post     0.08            0.5\n",
      " English-Nepali engagement gap     5.94            3.0\n",
      "High-performer theme share (%)    19.44           35.0\n",
      "  Interactive Stories per week     0.00            3.0\n"
     ]
    }
   ],
   "source": [
    "avg_engagement = df[\"Engagement\"].mean()\n",
    "\n",
    "# --- 3.3 Reel like-rate ---\n",
    "reels = df[(df[\"ContentType\"] == \"Reel\") & (df[\"Views\"] > 0)]\n",
    "reel_like_rate = (reels[\"Likes\"] / reels[\"Views\"]).mean() * 100  # %\n",
    "\n",
    "# --- 3.4 Comments per post ---\n",
    "comments_per_post = df[\"Comments\"].mean()\n",
    "\n",
    "# --- 3.5 English vs Nepali engagement gap ---\n",
    "lang_eng = df.groupby(\"Language\")[\"Engagement\"].mean()\n",
    "eng_gap = abs(lang_eng.get(\"English\", 0) - lang_eng.get(\"Nepali\", 0))\n",
    "\n",
    "# --- 3.6 High-performer theme share ---\n",
    "high_theme_mask = df[\"ContentTheme\"].str.contains(\"Visit|Training\", case=False, na=False)\n",
    "high_theme_share = high_theme_mask.mean() * 100  # %\n",
    "\n",
    "# --- 3.7 Stories usage ---\n",
    "# Nothing in CSV – assume zero; replace if you track Stories separately\n",
    "stories_usage = 0\n",
    "\n",
    "# -------------------------------\n",
    "# 4. Assemble KPI table\n",
    "# -------------------------------\n",
    "kpi_baseline = pd.DataFrame({\n",
    "    \"KPI\": [\n",
    "        \"Posting cadence (posts / week)\",\n",
    "        \"Avg engagement per post\",\n",
    "        \"Reel like-rate (%)\",\n",
    "        \"Comments per post\",\n",
    "        \"English-Nepali engagement gap\",\n",
    "        \"High-performer theme share (%)\",\n",
    "        \"Interactive Stories per week\"\n",
    "    ],\n",
    "    \"Current\": [\n",
    "        round(posting_cadence, 2),\n",
    "        round(avg_engagement, 2),\n",
    "        round(reel_like_rate, 2),\n",
    "        round(comments_per_post, 2),\n",
    "        round(eng_gap, 2),\n",
    "        round(high_theme_share, 2),\n",
    "        stories_usage\n",
    "    ],\n",
    "    \"30-Day Target\": [\n",
    "        3,      # posts / week\n",
    "        15,     # avg engagement\n",
    "        3,      # %\n",
    "        0.5,    # comments\n",
    "        3,      # gap\n",
    "        35,     # %\n",
    "        3       # stories\n",
    "    ]\n",
    "})\n",
    "\n",
    "# -------------------------------\n",
    "# 5. Output results\n",
    "# -------------------------------\n",
    "print(\"=== KPI Baseline vs 30-Day Target ===\\n\")\n",
    "print(kpi_baseline.to_string(index=False))"
   ]
  },
  {
   "cell_type": "code",
   "execution_count": null,
   "id": "87903458-7558-4f95-a4c8-42fa2a37e584",
   "metadata": {},
   "outputs": [],
   "source": []
  }
 ],
 "metadata": {
  "kernelspec": {
   "display_name": "Python 3 (ipykernel)",
   "language": "python",
   "name": "python3"
  },
  "language_info": {
   "codemirror_mode": {
    "name": "ipython",
    "version": 3
   },
   "file_extension": ".py",
   "mimetype": "text/x-python",
   "name": "python",
   "nbconvert_exporter": "python",
   "pygments_lexer": "ipython3",
   "version": "3.12.7"
  }
 },
 "nbformat": 4,
 "nbformat_minor": 5
}
